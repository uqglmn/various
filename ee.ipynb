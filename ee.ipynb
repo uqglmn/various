{
 "cells": [
  {
   "cell_type": "markdown",
   "id": "4a4c08a8",
   "metadata": {},
   "source": [
    "### Tikrinės vertės ir tikriniai vektoriai su SymPy\n",
    "\n",
    "<a href=\"https://colab.research.google.com/github/uqglmn/various/blob/main/ee.ipynb\" target=\"_parent\"><img src=\"https://colab.research.google.com/assets/colab-badge.svg\" alt=\"Open In Colab\"/></a>"
   ]
  },
  {
   "cell_type": "markdown",
   "id": "edb690c3",
   "metadata": {},
   "source": [
    "### Bibliotekos"
   ]
  },
  {
   "cell_type": "code",
   "execution_count": 1,
   "id": "eb70d00d",
   "metadata": {},
   "outputs": [],
   "source": [
    "# import Symbolic Python (SymPy)\n",
    "import sympy as sym\n",
    "\n",
    "# pretify SymPy outputs\n",
    "from sympy import init_printing\n",
    "init_printing() \n",
    "\n",
    "# pusiau-simetrinė skaliarinė sandauga\n",
    "def inner(v,w):\n",
    "    return v.dot(sym.conjugate(w))"
   ]
  },
  {
   "cell_type": "markdown",
   "id": "13850373",
   "metadata": {},
   "source": [
    "### Pavyzdys 1:\n",
    "\n",
    "Suraskime šios matricos tikrines vertes ir tikrinius vektorius:\n",
    "\n",
    "$$\n",
    "A = \\begin{pmatrix} 1 & 0 & 0 \\\\ 0 & 0 & i \\\\ 0 & i & 0 \\end{pmatrix}\n",
    "$$"
   ]
  },
  {
   "cell_type": "code",
   "execution_count": 2,
   "id": "431ca0d2",
   "metadata": {},
   "outputs": [
    {
     "data": {
      "image/png": "[encoded data removed]",
      "text/latex": [
       "$\\displaystyle \\left[\\begin{matrix}1 & 0 & 0\\\\0 & 0 & i\\\\0 & - i & 0\\end{matrix}\\right]$"
      ],
      "text/plain": [
       "⎡1  0   0⎤\n",
       "⎢        ⎥\n",
       "⎢0  0   ⅈ⎥\n",
       "⎢        ⎥\n",
       "⎣0  -ⅈ  0⎦"
      ]
     },
     "execution_count": 2,
     "metadata": {},
     "output_type": "execute_result"
    }
   ],
   "source": [
    "# apibrėžiame matricą\n",
    "A = sym.Matrix([[1, 0, 0], [0, 0, 1*sym.I], [0, -1*sym.I, 0]])\n",
    "A"
   ]
  },
  {
   "cell_type": "code",
   "execution_count": 3,
   "id": "e28d6ee3",
   "metadata": {},
   "outputs": [
    {
     "data": {
      "image/png": "[encoded data removed]",
      "text/latex": [
       "$\\displaystyle \\left[ \\left( -1, \\  1, \\  \\left[ \\left[\\begin{matrix}0\\\\- i\\\\1\\end{matrix}\\right]\\right]\\right), \\  \\left( 1, \\  2, \\  \\left[ \\left[\\begin{matrix}1\\\\0\\\\0\\end{matrix}\\right], \\  \\left[\\begin{matrix}0\\\\i\\\\1\\end{matrix}\\right]\\right]\\right)\\right]$"
      ],
      "text/plain": [
       "⎡⎛       ⎡⎡0 ⎤⎤⎞  ⎛      ⎡⎡1⎤  ⎡0⎤⎤⎞⎤\n",
       "⎢⎜       ⎢⎢  ⎥⎥⎟  ⎜      ⎢⎢ ⎥  ⎢ ⎥⎥⎟⎥\n",
       "⎢⎜-1, 1, ⎢⎢-ⅈ⎥⎥⎟, ⎜1, 2, ⎢⎢0⎥, ⎢ⅈ⎥⎥⎟⎥\n",
       "⎢⎜       ⎢⎢  ⎥⎥⎟  ⎜      ⎢⎢ ⎥  ⎢ ⎥⎥⎟⎥\n",
       "⎣⎝       ⎣⎣1 ⎦⎦⎠  ⎝      ⎣⎣0⎦  ⎣1⎦⎦⎠⎦"
      ]
     },
     "execution_count": 3,
     "metadata": {},
     "output_type": "execute_result"
    }
   ],
   "source": [
    "# surandame tikrines vertes, jų pasikartojimus, ir tikrinius vektorius\n",
    "ev = A.eigenvects()\n",
    "ev"
   ]
  },
  {
   "cell_type": "markdown",
   "id": "fc75235a",
   "metadata": {},
   "source": [
    "Iš čia matome kad matrica $A$ turi dvi tikrines vertes, $\\lambda_1 = -1$ ir $\\lambda_2 = 1$:\n",
    "\n",
    "- $\\lambda_1 = -1$ vertė yra neišsigimusi\n",
    "\n",
    "- $\\lambda_2 = 1$ vertė du kartus išsigimusi"
   ]
  },
  {
   "cell_type": "code",
   "execution_count": 4,
   "id": "96cae4d4",
   "metadata": {},
   "outputs": [],
   "source": [
    "v1 = ev[0][2][0]\n",
    "v2 = ev[1][2][0]\n",
    "v3 = ev[1][2][1]"
   ]
  },
  {
   "cell_type": "code",
   "execution_count": 5,
   "id": "e42fa7b1",
   "metadata": {},
   "outputs": [
    {
     "data": {
      "image/png": "[encoded data removed]",
      "text/latex": [
       "$\\displaystyle \\left[ 0, \\  0, \\  0\\right]$"
      ],
      "text/plain": [
       "[0, 0, 0]"
      ]
     },
     "execution_count": 5,
     "metadata": {},
     "output_type": "execute_result"
    }
   ],
   "source": [
    "# patikrinkime vektorių ortogonalumą\n",
    "[inner(v1,v2), inner(v1,v3), inner(v2,v3)]"
   ]
  },
  {
   "cell_type": "markdown",
   "id": "02f7892e",
   "metadata": {},
   "source": [
    "### Pavyzdys 2:\n",
    "\n",
    "Suraskime šios matricos tikrines vertes ir tikrinius vektorius:\n",
    "\n",
    "$$\n",
    "A = \\begin{pmatrix} 1 & 4 & 0 \\\\ 0 & 2 & 5 \\\\ 0 & 0 & 3 \\end{pmatrix}\n",
    "$$"
   ]
  },
  {
   "cell_type": "code",
   "execution_count": 6,
   "id": "dd1f1e3f",
   "metadata": {},
   "outputs": [
    {
     "data": {
      "image/png": "[encoded data removed]",
      "text/latex": [
       "$\\displaystyle \\left[\\begin{matrix}1 & 4 & 0\\\\0 & 2 & 5\\\\0 & 0 & 3\\end{matrix}\\right]$"
      ],
      "text/plain": [
       "⎡1  4  0⎤\n",
       "⎢       ⎥\n",
       "⎢0  2  5⎥\n",
       "⎢       ⎥\n",
       "⎣0  0  3⎦"
      ]
     },
     "execution_count": 6,
     "metadata": {},
     "output_type": "execute_result"
    }
   ],
   "source": [
    "# apibrėžiame matricą\n",
    "A = sym.Matrix([[1, 4, 0], [0, 2, 5], [0, 0, 3]])\n",
    "A"
   ]
  },
  {
   "cell_type": "code",
   "execution_count": 7,
   "id": "ad990dd3",
   "metadata": {},
   "outputs": [
    {
     "data": {
      "image/png": "[encoded data removed]",
      "text/latex": [
       "$\\displaystyle \\left[ \\left( 1, \\  1, \\  \\left[ \\left[\\begin{matrix}1\\\\0\\\\0\\end{matrix}\\right]\\right]\\right), \\  \\left( 2, \\  1, \\  \\left[ \\left[\\begin{matrix}4\\\\1\\\\0\\end{matrix}\\right]\\right]\\right), \\  \\left( 3, \\  1, \\  \\left[ \\left[\\begin{matrix}10\\\\5\\\\1\\end{matrix}\\right]\\right]\\right)\\right]$"
      ],
      "text/plain": [
       "⎡⎛      ⎡⎡1⎤⎤⎞  ⎛      ⎡⎡4⎤⎤⎞  ⎛      ⎡⎡10⎤⎤⎞⎤\n",
       "⎢⎜      ⎢⎢ ⎥⎥⎟  ⎜      ⎢⎢ ⎥⎥⎟  ⎜      ⎢⎢  ⎥⎥⎟⎥\n",
       "⎢⎜1, 1, ⎢⎢0⎥⎥⎟, ⎜2, 1, ⎢⎢1⎥⎥⎟, ⎜3, 1, ⎢⎢5 ⎥⎥⎟⎥\n",
       "⎢⎜      ⎢⎢ ⎥⎥⎟  ⎜      ⎢⎢ ⎥⎥⎟  ⎜      ⎢⎢  ⎥⎥⎟⎥\n",
       "⎣⎝      ⎣⎣0⎦⎦⎠  ⎝      ⎣⎣0⎦⎦⎠  ⎝      ⎣⎣1 ⎦⎦⎠⎦"
      ]
     },
     "execution_count": 7,
     "metadata": {},
     "output_type": "execute_result"
    }
   ],
   "source": [
    "# surandame tikrines vertes, jų pasikartojimus, ir tikrinius vektorius\n",
    "ev = A.eigenvects()\n",
    "ev"
   ]
  },
  {
   "cell_type": "markdown",
   "id": "4ce749a8",
   "metadata": {},
   "source": [
    "Iš čia matome kad matrica $A$ turi tris tikrines vertes, $\\lambda_1 = 1$, $\\lambda_2 = 2$ ir $\\lambda_3 = 3$."
   ]
  },
  {
   "cell_type": "code",
   "execution_count": 8,
   "id": "6e4e552d",
   "metadata": {},
   "outputs": [],
   "source": [
    "v1 = ev[0][2][0]\n",
    "v2 = ev[1][2][0]\n",
    "v3 = ev[2][2][0]"
   ]
  },
  {
   "cell_type": "code",
   "execution_count": 9,
   "id": "f8c8bded",
   "metadata": {},
   "outputs": [
    {
     "data": {
      "image/png": "[encoded data removed]",
      "text/latex": [
       "$\\displaystyle \\left[ 4, \\  10, \\  45\\right]$"
      ],
      "text/plain": [
       "[4, 10, 45]"
      ]
     },
     "execution_count": 9,
     "metadata": {},
     "output_type": "execute_result"
    }
   ],
   "source": [
    "# patikrinkime vektorių ortogonalumą\n",
    "[inner(v1,v2), inner(v1,v3), inner(v2,v3)]"
   ]
  },
  {
   "cell_type": "markdown",
   "id": "b27cb775",
   "metadata": {},
   "source": [
    "Ši matrica nėra nei Ermitinė, nei normali. Jos tikriniai vektoriai nėra ortogonalūs."
   ]
  },
  {
   "cell_type": "markdown",
   "id": "489e5c28",
   "metadata": {},
   "source": [
    "### Pavyzdys 3:\n",
    "\n",
    "Suraskime šios matricos tikrines vertes ir tikrinius vektorius:\n",
    "\n",
    "$$\n",
    "A = \\begin{pmatrix} 1 & 1 & 0 \\\\ 0 & 1 & 1 \\\\ 0 & 0 & 2 \\end{pmatrix}\n",
    "$$"
   ]
  },
  {
   "cell_type": "code",
   "execution_count": 10,
   "id": "cdacc637",
   "metadata": {},
   "outputs": [
    {
     "data": {
      "image/png": "[encoded data removed]",
      "text/latex": [
       "$\\displaystyle \\left[\\begin{matrix}1 & 1 & 0\\\\0 & 1 & 1\\\\0 & 0 & 2\\end{matrix}\\right]$"
      ],
      "text/plain": [
       "⎡1  1  0⎤\n",
       "⎢       ⎥\n",
       "⎢0  1  1⎥\n",
       "⎢       ⎥\n",
       "⎣0  0  2⎦"
      ]
     },
     "execution_count": 10,
     "metadata": {},
     "output_type": "execute_result"
    }
   ],
   "source": [
    "# apibrėžiame matricą\n",
    "A = sym.Matrix([[1, 1, 0], [0, 1, 1], [0, 0, 2]])\n",
    "A"
   ]
  },
  {
   "cell_type": "code",
   "execution_count": 11,
   "id": "2aea3f92",
   "metadata": {},
   "outputs": [
    {
     "data": {
      "image/png": "[encoded data removed]",
      "text/latex": [
       "$\\displaystyle \\left[ \\left( 1, \\  2, \\  \\left[ \\left[\\begin{matrix}1\\\\0\\\\0\\end{matrix}\\right]\\right]\\right), \\  \\left( 2, \\  1, \\  \\left[ \\left[\\begin{matrix}1\\\\1\\\\1\\end{matrix}\\right]\\right]\\right)\\right]$"
      ],
      "text/plain": [
       "⎡⎛      ⎡⎡1⎤⎤⎞  ⎛      ⎡⎡1⎤⎤⎞⎤\n",
       "⎢⎜      ⎢⎢ ⎥⎥⎟  ⎜      ⎢⎢ ⎥⎥⎟⎥\n",
       "⎢⎜1, 2, ⎢⎢0⎥⎥⎟, ⎜2, 1, ⎢⎢1⎥⎥⎟⎥\n",
       "⎢⎜      ⎢⎢ ⎥⎥⎟  ⎜      ⎢⎢ ⎥⎥⎟⎥\n",
       "⎣⎝      ⎣⎣0⎦⎦⎠  ⎝      ⎣⎣1⎦⎦⎠⎦"
      ]
     },
     "execution_count": 11,
     "metadata": {},
     "output_type": "execute_result"
    }
   ],
   "source": [
    "A.eigenvects()"
   ]
  },
  {
   "cell_type": "markdown",
   "id": "a9711174",
   "metadata": {},
   "source": [
    "Iš čia matome kad matrica $A$ turi dvi tikrines vertes, $\\lambda_1 = 1$ ir $\\lambda_2 = 2$, ir tik du tikrinius vektorius. Tokia matrica vadinama defektyvia."
   ]
  },
  {
   "cell_type": "code",
   "execution_count": 12,
   "id": "025a1f88",
   "metadata": {},
   "outputs": [],
   "source": [
    "v1 = ev[0][2][0]\n",
    "v2 = ev[1][2][0]"
   ]
  },
  {
   "cell_type": "code",
   "execution_count": 13,
   "id": "3237f546",
   "metadata": {},
   "outputs": [
    {
     "data": {
      "image/png": "[encoded data removed]",
      "text/latex": [
       "$\\displaystyle 4$"
      ],
      "text/plain": [
       "4"
      ]
     },
     "execution_count": 13,
     "metadata": {},
     "output_type": "execute_result"
    }
   ],
   "source": [
    "# patikrinkime vektorių ortogonalumą\n",
    "inner(v1,v2)"
   ]
  },
  {
   "cell_type": "markdown",
   "id": "e4f14809",
   "metadata": {},
   "source": [
    "Tikriniai vektoriai nėra ortogonalūs"
   ]
  },
  {
   "cell_type": "markdown",
   "id": "4182b770",
   "metadata": {},
   "source": [
    "---"
   ]
  }
 ],
 "metadata": {
  "kernelspec": {
   "display_name": "Python 3 (ipykernel)",
   "language": "python",
   "name": "python3"
  },
  "language_info": {
   "codemirror_mode": {
    "name": "ipython",
    "version": 3
   },
   "file_extension": ".py",
   "mimetype": "text/x-python",
   "name": "python",
   "nbconvert_exporter": "python",
   "pygments_lexer": "ipython3",
   "version": "3.9.13"
  },
  "latex_envs": {
   "LaTeX_envs_menu_present": true,
   "autoclose": false,
   "autocomplete": true,
   "bibliofile": "biblio.bib",
   "cite_by": "apalike",
   "current_citInitial": 1,
   "eqLabelWithNumbers": true,
   "eqNumInitial": 1,
   "hotkeys": {
    "equation": "Ctrl-E",
    "itemize": "Ctrl-I"
   },
   "labels_anchors": false,
   "latex_user_defs": false,
   "report_style_numbering": false,
   "user_envs_cfg": false
  }
 },
 "nbformat": 4,
 "nbformat_minor": 5
}
