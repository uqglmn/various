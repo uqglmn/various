{
 "cells": [
  {
   "cell_type": "markdown",
   "id": "01e7877a",
   "metadata": {},
   "source": [
    "<a href=\"https://colab.research.google.com/github/uqglmn/various/blob/main/house3d.ipynb\" target=\"_parent\"><img src=\"https://colab.research.google.com/assets/colab-badge.svg\" alt=\"Open In Colab\"/></a>"
   ]
  },
  {
   "cell_type": "code",
   "execution_count": null,
   "id": "84909cd5",
   "metadata": {},
   "outputs": [],
   "source": [
    "import plotly.graph_objects as go\n",
    "import numpy as np\n",
    "\n",
    "def surf(x,y):\n",
    "    z = (x**2 + y**2 <= 4) | ((x+2.5)**2 + y**2 <= 2.5**2) | ((x-2.5)**2 + y**2 <= 2.5**2) | ( (y >= (3.167*x-0.334)/1.2) & (y>= -(3.167*x-0.334)/1.2) & (y <= 5))\n",
    "    return z*(1-y/8)\n",
    "\n",
    "n = 300\n",
    "X, Y = np.meshgrid(np.linspace(-6, 6, n), np.linspace(-6, 6, n))\n",
    "\n",
    "fig = go.Figure(data=[go.Surface(z=surf(X,Y), x=X, y=Y)])\n",
    "fig.update_layout(autosize=False,\n",
    "                  width=500, height=500,\n",
    "                  margin=dict(l=50, r=50, b=50, t=50))\n",
    "fig.show()"
   ]
  },
  {
   "cell_type": "code",
   "execution_count": null,
   "id": "d381cb5c",
   "metadata": {},
   "outputs": [],
   "source": []
  }
 ],
 "metadata": {
  "kernelspec": {
   "display_name": "Python 3 (ipykernel)",
   "language": "python",
   "name": "python3"
  },
  "language_info": {
   "codemirror_mode": {
    "name": "ipython",
    "version": 3
   },
   "file_extension": ".py",
   "mimetype": "text/x-python",
   "name": "python",
   "nbconvert_exporter": "python",
   "pygments_lexer": "ipython3",
   "version": "3.9.13"
  },
  "latex_envs": {
   "LaTeX_envs_menu_present": true,
   "autoclose": false,
   "autocomplete": true,
   "bibliofile": "biblio.bib",
   "cite_by": "apalike",
   "current_citInitial": 1,
   "eqLabelWithNumbers": true,
   "eqNumInitial": 1,
   "hotkeys": {
    "equation": "Ctrl-E",
    "itemize": "Ctrl-I"
   },
   "labels_anchors": false,
   "latex_user_defs": false,
   "report_style_numbering": false,
   "user_envs_cfg": false
  }
 },
 "nbformat": 4,
 "nbformat_minor": 5
}
